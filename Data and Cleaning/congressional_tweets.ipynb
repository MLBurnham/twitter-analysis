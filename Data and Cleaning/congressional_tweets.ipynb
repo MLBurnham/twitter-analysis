{
 "cells": [
  {
   "cell_type": "markdown",
   "metadata": {},
   "source": [
    "### Notes\n",
    "- 86,000 rows with retweets\n",
    "- 68,000 rows without retweets\n",
    "- http://trumptwitterarchive.com/archive for trump tweets\n"
   ]
  },
  {
   "cell_type": "code",
   "execution_count": 4,
   "metadata": {},
   "outputs": [],
   "source": [
    "import pandas as pd"
   ]
  },
  {
   "cell_type": "code",
   "execution_count": 5,
   "metadata": {},
   "outputs": [
    {
     "data": {
      "text/html": [
       "<div>\n",
       "<style scoped>\n",
       "    .dataframe tbody tr th:only-of-type {\n",
       "        vertical-align: middle;\n",
       "    }\n",
       "\n",
       "    .dataframe tbody tr th {\n",
       "        vertical-align: top;\n",
       "    }\n",
       "\n",
       "    .dataframe thead th {\n",
       "        text-align: right;\n",
       "    }\n",
       "</style>\n",
       "<table border=\"1\" class=\"dataframe\">\n",
       "  <thead>\n",
       "    <tr style=\"text-align: right;\">\n",
       "      <th></th>\n",
       "      <th>Party</th>\n",
       "      <th>Handle</th>\n",
       "      <th>Tweet</th>\n",
       "    </tr>\n",
       "  </thead>\n",
       "  <tbody>\n",
       "    <tr>\n",
       "      <th>0</th>\n",
       "      <td>Democrat</td>\n",
       "      <td>RepDarrenSoto</td>\n",
       "      <td>Today, Senate Dems vote to #SaveTheInternet. P...</td>\n",
       "    </tr>\n",
       "    <tr>\n",
       "      <th>1</th>\n",
       "      <td>Democrat</td>\n",
       "      <td>RepDarrenSoto</td>\n",
       "      <td>RT @WinterHavenSun: Winter Haven resident / Al...</td>\n",
       "    </tr>\n",
       "    <tr>\n",
       "      <th>2</th>\n",
       "      <td>Democrat</td>\n",
       "      <td>RepDarrenSoto</td>\n",
       "      <td>RT @NBCLatino: .@RepDarrenSoto noted that Hurr...</td>\n",
       "    </tr>\n",
       "    <tr>\n",
       "      <th>3</th>\n",
       "      <td>Democrat</td>\n",
       "      <td>RepDarrenSoto</td>\n",
       "      <td>RT @NALCABPolicy: Meeting with @RepDarrenSoto ...</td>\n",
       "    </tr>\n",
       "    <tr>\n",
       "      <th>4</th>\n",
       "      <td>Democrat</td>\n",
       "      <td>RepDarrenSoto</td>\n",
       "      <td>RT @Vegalteno: Hurricane season starts on June...</td>\n",
       "    </tr>\n",
       "  </tbody>\n",
       "</table>\n",
       "</div>"
      ],
      "text/plain": [
       "      Party         Handle                                              Tweet\n",
       "0  Democrat  RepDarrenSoto  Today, Senate Dems vote to #SaveTheInternet. P...\n",
       "1  Democrat  RepDarrenSoto  RT @WinterHavenSun: Winter Haven resident / Al...\n",
       "2  Democrat  RepDarrenSoto  RT @NBCLatino: .@RepDarrenSoto noted that Hurr...\n",
       "3  Democrat  RepDarrenSoto  RT @NALCABPolicy: Meeting with @RepDarrenSoto ...\n",
       "4  Democrat  RepDarrenSoto  RT @Vegalteno: Hurricane season starts on June..."
      ]
     },
     "execution_count": 5,
     "metadata": {},
     "output_type": "execute_result"
    }
   ],
   "source": [
    "tweets = pd.read_csv('ExtractedTweets.csv')\n",
    "tweets.head()"
   ]
  },
  {
   "cell_type": "code",
   "execution_count": 7,
   "metadata": {
    "scrolled": true
   },
   "outputs": [
    {
     "data": {
      "text/html": [
       "<div>\n",
       "<style scoped>\n",
       "    .dataframe tbody tr th:only-of-type {\n",
       "        vertical-align: middle;\n",
       "    }\n",
       "\n",
       "    .dataframe tbody tr th {\n",
       "        vertical-align: top;\n",
       "    }\n",
       "\n",
       "    .dataframe thead th {\n",
       "        text-align: right;\n",
       "    }\n",
       "</style>\n",
       "<table border=\"1\" class=\"dataframe\">\n",
       "  <thead>\n",
       "    <tr style=\"text-align: right;\">\n",
       "      <th></th>\n",
       "      <th>Party</th>\n",
       "      <th>Handle</th>\n",
       "      <th>Tweet</th>\n",
       "    </tr>\n",
       "  </thead>\n",
       "  <tbody>\n",
       "    <tr>\n",
       "      <th>0</th>\n",
       "      <td>Democrat</td>\n",
       "      <td>RepDarrenSoto</td>\n",
       "      <td>Today, Senate Dems vote to #SaveTheInternet. P...</td>\n",
       "    </tr>\n",
       "    <tr>\n",
       "      <th>6</th>\n",
       "      <td>Democrat</td>\n",
       "      <td>RepDarrenSoto</td>\n",
       "      <td>Hurricane Maria left approx $90 billion in dam...</td>\n",
       "    </tr>\n",
       "    <tr>\n",
       "      <th>11</th>\n",
       "      <td>Democrat</td>\n",
       "      <td>RepDarrenSoto</td>\n",
       "      <td>.@realDonaldTrump official policy to separate ...</td>\n",
       "    </tr>\n",
       "    <tr>\n",
       "      <th>12</th>\n",
       "      <td>Democrat</td>\n",
       "      <td>RepDarrenSoto</td>\n",
       "      <td>Thank you to my mom Jean and all the mothers a...</td>\n",
       "    </tr>\n",
       "    <tr>\n",
       "      <th>13</th>\n",
       "      <td>Democrat</td>\n",
       "      <td>RepDarrenSoto</td>\n",
       "      <td>We paid our respects at Nat’l Law Enforcement ...</td>\n",
       "    </tr>\n",
       "  </tbody>\n",
       "</table>\n",
       "</div>"
      ],
      "text/plain": [
       "       Party         Handle                                              Tweet\n",
       "0   Democrat  RepDarrenSoto  Today, Senate Dems vote to #SaveTheInternet. P...\n",
       "6   Democrat  RepDarrenSoto  Hurricane Maria left approx $90 billion in dam...\n",
       "11  Democrat  RepDarrenSoto  .@realDonaldTrump official policy to separate ...\n",
       "12  Democrat  RepDarrenSoto  Thank you to my mom Jean and all the mothers a...\n",
       "13  Democrat  RepDarrenSoto  We paid our respects at Nat’l Law Enforcement ..."
      ]
     },
     "execution_count": 7,
     "metadata": {},
     "output_type": "execute_result"
    }
   ],
   "source": [
    "original_tweets = tweets[tweets.Tweet.str.contains('RT @') == False]\n",
    "original_tweets.head()"
   ]
  },
  {
   "cell_type": "code",
   "execution_count": 16,
   "metadata": {},
   "outputs": [],
   "source": [
    "original_tweets.to_csv('politician_tweets.csv')"
   ]
  },
  {
   "cell_type": "markdown",
   "metadata": {},
   "source": [
    "## NLP"
   ]
  },
  {
   "cell_type": "markdown",
   "metadata": {},
   "source": [
    "- import tf idf\n",
    "- define corpus\n",
    "- tokenize\n",
    "- remove stop words\n",
    "- Lemmatize"
   ]
  },
  {
   "cell_type": "code",
   "execution_count": 1,
   "metadata": {},
   "outputs": [],
   "source": [
    "from sklearn.feature_extraction.text import TfidfVectorizer"
   ]
  },
  {
   "cell_type": "code",
   "execution_count": 15,
   "metadata": {},
   "outputs": [
    {
     "name": "stdout",
     "output_type": "stream",
     "text": [
      "  (0, 92283)\t0.1424465995079605\n",
      "  (0, 85065)\t0.24529768239588506\n",
      "  (0, 28981)\t0.3287838875681418\n",
      "  (0, 98955)\t0.23228435194327657\n",
      "  (0, 84172)\t0.35630527181296506\n",
      "  (0, 75595)\t0.1977411216823279\n",
      "  (0, 89059)\t0.2070009324062867\n",
      "  (0, 86176)\t0.36175118501070086\n",
      "  (0, 66115)\t0.28627779438311046\n",
      "  (0, 57571)\t0.22997861950110174\n",
      "  (0, 45886)\t0.1825061668877804\n",
      "  (0, 46435)\t0.04828700978228692\n",
      "  (0, 64896)\t0.49722184924619606\n",
      "  (1, 46435)\t0.033813525616416436\n",
      "  (1, 46632)\t0.21984704065466407\n",
      "  (1, 60749)\t0.2540050848288406\n",
      "  (1, 57527)\t0.20927443137549143\n",
      "  (1, 15479)\t0.28889581549890075\n",
      "  (1, 10839)\t0.23466807362421985\n",
      "  (1, 18866)\t0.3826951935336859\n",
      "  (1, 27974)\t0.2962437178684503\n",
      "  (1, 14389)\t0.31001513201870556\n",
      "  (1, 79585)\t0.25072571483633904\n",
      "  (1, 42389)\t0.27654180729395406\n",
      "  (1, 89131)\t0.3358312244763206\n",
      "  :\t:\n",
      "  (67556, 38397)\t0.3511708130240921\n",
      "  (67556, 17703)\t0.5202256885918494\n",
      "  (67556, 32994)\t0.5202256885918494\n",
      "  (67557, 28210)\t0.2391525409213322\n",
      "  (67557, 84454)\t0.2699320568588572\n",
      "  (67557, 43840)\t0.2568042589063133\n",
      "  (67557, 24694)\t0.6340324595233262\n",
      "  (67557, 24690)\t0.6340324595233262\n",
      "  (67558, 28981)\t0.24967942991333064\n",
      "  (67558, 45886)\t0.1385957080842778\n",
      "  (67558, 14795)\t0.10949291688455476\n",
      "  (67558, 37969)\t0.21526769785799107\n",
      "  (67558, 91772)\t0.1483688832081388\n",
      "  (67558, 102198)\t0.1457784442943022\n",
      "  (67558, 41828)\t0.19064863449212235\n",
      "  (67558, 74364)\t0.22946427568284974\n",
      "  (67558, 75115)\t0.21940334000464698\n",
      "  (67558, 26581)\t0.20545979538995118\n",
      "  (67558, 48710)\t0.27699455374539483\n",
      "  (67558, 15995)\t0.28397663148103375\n",
      "  (67558, 108368)\t0.2968916409779415\n",
      "  (67558, 48993)\t0.31329491483108207\n",
      "  (67558, 36881)\t0.33178574674771294\n",
      "  (67558, 12909)\t0.2870288318887907\n",
      "  (67558, 79503)\t0.31838836353637323\n",
      "Wall time: 1.52 s\n"
     ]
    }
   ],
   "source": [
    "%%time\n",
    "corpus = original_tweets.Tweet\n",
    "# instantiate\n",
    "vect = TfidfVectorizer(stop_words = 'english')\n",
    "# fit\n",
    "fit_congress = vect.fit_transform(corpus)\n",
    "print(fit_congress)"
   ]
  },
  {
   "cell_type": "code",
   "execution_count": null,
   "metadata": {},
   "outputs": [],
   "source": []
  }
 ],
 "metadata": {
  "kernelspec": {
   "display_name": "Python 3",
   "language": "python",
   "name": "python3"
  },
  "language_info": {
   "codemirror_mode": {
    "name": "ipython",
    "version": 3
   },
   "file_extension": ".py",
   "mimetype": "text/x-python",
   "name": "python",
   "nbconvert_exporter": "python",
   "pygments_lexer": "ipython3",
   "version": "3.6.6"
  }
 },
 "nbformat": 4,
 "nbformat_minor": 2
}
