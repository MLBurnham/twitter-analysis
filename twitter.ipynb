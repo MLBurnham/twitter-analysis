{
 "cells": [
  {
   "cell_type": "code",
   "execution_count": 1,
   "metadata": {},
   "outputs": [
    {
     "name": "stdout",
     "output_type": "stream",
     "text": [
      "importing Jupyter notebook from Keys.ipynb\n"
     ]
    }
   ],
   "source": [
    "try:\n",
    "    import tweepy\n",
    "except:\n",
    "    import sys\n",
    "    !pip install tweepy\n",
    "    import tweepy\n",
    "    \n",
    "try:\n",
    "    import import_ipynb\n",
    "except:\n",
    "    import sys\n",
    "    !pip install import_ipynb\n",
    "    import import_ipynb\n",
    "    \n",
    "import matplotlib.pyplot\n",
    "import csv\n",
    "from Keys import *"
   ]
  },
  {
   "cell_type": "code",
   "execution_count": 2,
   "metadata": {},
   "outputs": [],
   "source": [
    "auth = tweepy.OAuthHandler(consumer_key = consumer_key, consumer_secret = consumer_secret)\n",
    "auth.set_access_token(access_token, access_secret)\n",
    "api = tweepy.API(auth)"
   ]
  },
  {
   "cell_type": "code",
   "execution_count": 3,
   "metadata": {
    "collapsed": true
   },
   "outputs": [
    {
     "name": "stdout",
     "output_type": "stream",
     "text": [
      "Enter Twitter handle: test\n"
     ]
    },
    {
     "ename": "KeyboardInterrupt",
     "evalue": "",
     "output_type": "error",
     "traceback": [
      "\u001b[1;31m---------------------------------------------------------------------------\u001b[0m",
      "\u001b[1;31mKeyboardInterrupt\u001b[0m                         Traceback (most recent call last)",
      "\u001b[1;32m~\\Anaconda3\\lib\\site-packages\\ipykernel\\kernelbase.py\u001b[0m in \u001b[0;36m_input_request\u001b[1;34m(self, prompt, ident, parent, password)\u001b[0m\n\u001b[0;32m    728\u001b[0m             \u001b[1;32mtry\u001b[0m\u001b[1;33m:\u001b[0m\u001b[1;33m\u001b[0m\u001b[0m\n\u001b[1;32m--> 729\u001b[1;33m                 \u001b[0mident\u001b[0m\u001b[1;33m,\u001b[0m \u001b[0mreply\u001b[0m \u001b[1;33m=\u001b[0m \u001b[0mself\u001b[0m\u001b[1;33m.\u001b[0m\u001b[0msession\u001b[0m\u001b[1;33m.\u001b[0m\u001b[0mrecv\u001b[0m\u001b[1;33m(\u001b[0m\u001b[0mself\u001b[0m\u001b[1;33m.\u001b[0m\u001b[0mstdin_socket\u001b[0m\u001b[1;33m,\u001b[0m \u001b[1;36m0\u001b[0m\u001b[1;33m)\u001b[0m\u001b[1;33m\u001b[0m\u001b[0m\n\u001b[0m\u001b[0;32m    730\u001b[0m             \u001b[1;32mexcept\u001b[0m \u001b[0mException\u001b[0m\u001b[1;33m:\u001b[0m\u001b[1;33m\u001b[0m\u001b[0m\n",
      "\u001b[1;32m~\\Anaconda3\\lib\\site-packages\\jupyter_client\\session.py\u001b[0m in \u001b[0;36mrecv\u001b[1;34m(self, socket, mode, content, copy)\u001b[0m\n\u001b[0;32m    802\u001b[0m         \u001b[1;32mtry\u001b[0m\u001b[1;33m:\u001b[0m\u001b[1;33m\u001b[0m\u001b[0m\n\u001b[1;32m--> 803\u001b[1;33m             \u001b[0mmsg_list\u001b[0m \u001b[1;33m=\u001b[0m \u001b[0msocket\u001b[0m\u001b[1;33m.\u001b[0m\u001b[0mrecv_multipart\u001b[0m\u001b[1;33m(\u001b[0m\u001b[0mmode\u001b[0m\u001b[1;33m,\u001b[0m \u001b[0mcopy\u001b[0m\u001b[1;33m=\u001b[0m\u001b[0mcopy\u001b[0m\u001b[1;33m)\u001b[0m\u001b[1;33m\u001b[0m\u001b[0m\n\u001b[0m\u001b[0;32m    804\u001b[0m         \u001b[1;32mexcept\u001b[0m \u001b[0mzmq\u001b[0m\u001b[1;33m.\u001b[0m\u001b[0mZMQError\u001b[0m \u001b[1;32mas\u001b[0m \u001b[0me\u001b[0m\u001b[1;33m:\u001b[0m\u001b[1;33m\u001b[0m\u001b[0m\n",
      "\u001b[1;32m~\\Anaconda3\\lib\\site-packages\\zmq\\sugar\\socket.py\u001b[0m in \u001b[0;36mrecv_multipart\u001b[1;34m(self, flags, copy, track)\u001b[0m\n\u001b[0;32m    394\u001b[0m         \"\"\"\n\u001b[1;32m--> 395\u001b[1;33m         \u001b[0mparts\u001b[0m \u001b[1;33m=\u001b[0m \u001b[1;33m[\u001b[0m\u001b[0mself\u001b[0m\u001b[1;33m.\u001b[0m\u001b[0mrecv\u001b[0m\u001b[1;33m(\u001b[0m\u001b[0mflags\u001b[0m\u001b[1;33m,\u001b[0m \u001b[0mcopy\u001b[0m\u001b[1;33m=\u001b[0m\u001b[0mcopy\u001b[0m\u001b[1;33m,\u001b[0m \u001b[0mtrack\u001b[0m\u001b[1;33m=\u001b[0m\u001b[0mtrack\u001b[0m\u001b[1;33m)\u001b[0m\u001b[1;33m]\u001b[0m\u001b[1;33m\u001b[0m\u001b[0m\n\u001b[0m\u001b[0;32m    396\u001b[0m         \u001b[1;31m# have first part already, only loop while more to receive\u001b[0m\u001b[1;33m\u001b[0m\u001b[1;33m\u001b[0m\u001b[0m\n",
      "\u001b[1;32mzmq/backend/cython/socket.pyx\u001b[0m in \u001b[0;36mzmq.backend.cython.socket.Socket.recv\u001b[1;34m()\u001b[0m\n",
      "\u001b[1;32mzmq/backend/cython/socket.pyx\u001b[0m in \u001b[0;36mzmq.backend.cython.socket.Socket.recv\u001b[1;34m()\u001b[0m\n",
      "\u001b[1;32mzmq/backend/cython/socket.pyx\u001b[0m in \u001b[0;36mzmq.backend.cython.socket._recv_copy\u001b[1;34m()\u001b[0m\n",
      "\u001b[1;32m~\\Anaconda3\\lib\\site-packages\\zmq\\backend\\cython\\checkrc.pxd\u001b[0m in \u001b[0;36mzmq.backend.cython.checkrc._check_rc\u001b[1;34m()\u001b[0m\n",
      "\u001b[1;31mKeyboardInterrupt\u001b[0m: ",
      "\nDuring handling of the above exception, another exception occurred:\n",
      "\u001b[1;31mKeyboardInterrupt\u001b[0m                         Traceback (most recent call last)",
      "\u001b[1;32m<ipython-input-3-856767ac3f79>\u001b[0m in \u001b[0;36m<module>\u001b[1;34m()\u001b[0m\n\u001b[0;32m      1\u001b[0m \u001b[1;31m# experimenting with user input to determine tweet source and number\u001b[0m\u001b[1;33m\u001b[0m\u001b[1;33m\u001b[0m\u001b[0m\n\u001b[1;32m----> 2\u001b[1;33m \u001b[0msearchTerm\u001b[0m \u001b[1;33m=\u001b[0m \u001b[0minput\u001b[0m\u001b[1;33m(\u001b[0m\u001b[1;34m'Enter Twitter handle: '\u001b[0m\u001b[1;33m)\u001b[0m\u001b[1;33m\u001b[0m\u001b[0m\n\u001b[0m\u001b[0;32m      3\u001b[0m \u001b[0mtermNumber\u001b[0m \u001b[1;33m=\u001b[0m \u001b[0mint\u001b[0m\u001b[1;33m(\u001b[0m\u001b[0minput\u001b[0m\u001b[1;33m(\u001b[0m\u001b[1;34m'Number of tweets to analyze: '\u001b[0m\u001b[1;33m)\u001b[0m\u001b[1;33m)\u001b[0m\u001b[1;33m\u001b[0m\u001b[0m\n",
      "\u001b[1;32m~\\Anaconda3\\lib\\site-packages\\ipykernel\\kernelbase.py\u001b[0m in \u001b[0;36mraw_input\u001b[1;34m(self, prompt)\u001b[0m\n\u001b[0;32m    702\u001b[0m             \u001b[0mself\u001b[0m\u001b[1;33m.\u001b[0m\u001b[0m_parent_ident\u001b[0m\u001b[1;33m,\u001b[0m\u001b[1;33m\u001b[0m\u001b[0m\n\u001b[0;32m    703\u001b[0m             \u001b[0mself\u001b[0m\u001b[1;33m.\u001b[0m\u001b[0m_parent_header\u001b[0m\u001b[1;33m,\u001b[0m\u001b[1;33m\u001b[0m\u001b[0m\n\u001b[1;32m--> 704\u001b[1;33m             \u001b[0mpassword\u001b[0m\u001b[1;33m=\u001b[0m\u001b[1;32mFalse\u001b[0m\u001b[1;33m,\u001b[0m\u001b[1;33m\u001b[0m\u001b[0m\n\u001b[0m\u001b[0;32m    705\u001b[0m         )\n\u001b[0;32m    706\u001b[0m \u001b[1;33m\u001b[0m\u001b[0m\n",
      "\u001b[1;32m~\\Anaconda3\\lib\\site-packages\\ipykernel\\kernelbase.py\u001b[0m in \u001b[0;36m_input_request\u001b[1;34m(self, prompt, ident, parent, password)\u001b[0m\n\u001b[0;32m    732\u001b[0m             \u001b[1;32mexcept\u001b[0m \u001b[0mKeyboardInterrupt\u001b[0m\u001b[1;33m:\u001b[0m\u001b[1;33m\u001b[0m\u001b[0m\n\u001b[0;32m    733\u001b[0m                 \u001b[1;31m# re-raise KeyboardInterrupt, to truncate traceback\u001b[0m\u001b[1;33m\u001b[0m\u001b[1;33m\u001b[0m\u001b[0m\n\u001b[1;32m--> 734\u001b[1;33m                 \u001b[1;32mraise\u001b[0m \u001b[0mKeyboardInterrupt\u001b[0m\u001b[1;33m\u001b[0m\u001b[0m\n\u001b[0m\u001b[0;32m    735\u001b[0m             \u001b[1;32melse\u001b[0m\u001b[1;33m:\u001b[0m\u001b[1;33m\u001b[0m\u001b[0m\n\u001b[0;32m    736\u001b[0m                 \u001b[1;32mbreak\u001b[0m\u001b[1;33m\u001b[0m\u001b[0m\n",
      "\u001b[1;31mKeyboardInterrupt\u001b[0m: "
     ]
    }
   ],
   "source": [
    "# experimenting with user input to determine tweet source and number\n",
    "searchTerm = input('Enter Twitter handle: ')\n",
    "termNumber = int(input('Number of tweets to analyze: '))"
   ]
  },
  {
   "cell_type": "code",
   "execution_count": 3,
   "metadata": {},
   "outputs": [],
   "source": [
    "# this returns a list of status objects. \n",
    "# important methods are: id, text (full_text if extended), truncated, geo, place, retweet_count, favorite_count, \n",
    "# user.name, user.screen_name, is_quote_status, created_at\n",
    "tweets = api.user_timeline(id = ['realDonaldTrump', 'KamalaHarris'], count = 10, tweet_mode = 'extended')"
   ]
  },
  {
   "cell_type": "code",
   "execution_count": 10,
   "metadata": {},
   "outputs": [],
   "source": [
    "columns = ('Username', 'Screenname', 'Text', 'Time', 'Retweets', 'Favorites')"
   ]
  },
  {
   "cell_type": "code",
   "execution_count": 11,
   "metadata": {},
   "outputs": [],
   "source": [
    "csvFile = open('tweets.csv', 'a')\n",
    "csvWriter = csv.DictWriter(csvFile, fieldnames = columns, lineterminator = '\\n')\n",
    "csvWriter.writeheader()"
   ]
  },
  {
   "cell_type": "code",
   "execution_count": 12,
   "metadata": {},
   "outputs": [],
   "source": [
    "politicians = ['realDonaldTrump', 'KamalaHarris']"
   ]
  },
  {
   "cell_type": "code",
   "execution_count": 13,
   "metadata": {
    "scrolled": true
   },
   "outputs": [
    {
     "name": "stdout",
     "output_type": "stream",
     "text": [
      "Today, on the 236th anniversary of the Purple Heart, we honor the members of our Armed Forces for serving as the vanguard of American democracy and freedom around the world. #PurpleHeartDay https://t.co/NghmQ4BOKh\n",
      "RT @EricTrump: Ohio make sure to get out and vote today! We need Troy Balderson in Congress. Visit https://t.co/ypMnbPQzqk to find your pol…\n",
      "Ohio, vote today for Troy Balderson for Congress. His opponent, controlled by Nancy Pelosi, is weak on Crime, the Border, Military, Vets, your 2nd Amendment - and will end your Tax Cuts. Troy will be a great Congressman. #MAGA\n",
      "The Iran sanctions have officially been cast. These are the most biting sanctions ever imposed, and in November they ratchet up to yet another level. Anyone doing business with Iran will NOT be doing business with the United States. I am asking for WORLD PEACE, nothing less!\n",
      "California wildfires are being magnified &amp; made so much worse by the bad environmental laws which aren’t allowing massive amounts of readily available water to be properly utilized. It is being diverted into the Pacific Ocean. Must also tree clear to stop fire from spreading!\n",
      "Democrats want Open Borders and they want to abolish ICE, the brave men and women that are protecting our Country from some of the most vicious and dangerous people on earth! Sorry, we can’t let that happen! Also, change the rules in the Senate and approve STRONG Border Security!\n",
      "RT @realDonaldTrump: Presidential Approval numbers are very good - strong economy, military and just about everything else. Better numbers…\n",
      "John James is a potential Republican Star who has a Senate primary election tomorrow in Michigan. If he becomes the Republican candidate, he will beat the Open Borders, weak on Crime, Democrat, Debbie Stabenow. Vote for John James and Make America Great Again!\n",
      "Governor Jerry Brown must allow the Free Flow of the vast amounts of water coming from the North and foolishly being diverted into the Pacific Ocean. Can be used for fires, farming and everything else. Think of California with plenty of Water - Nice! Fast Federal govt. approvals.\n",
      "Kris Kobach, a strong and early supporter of mine, is running for Governor of the Great State of Kansas.  He is a fantastic guy who loves his State and our Country - he will be a GREAT Governor and has my full &amp; total Endorsement! Strong on Crime, Border &amp; Military. VOTE TUESDAY!\n",
      "By the end of their careers, on average Black women will have been paid about $840,000 less than their white male counterparts. That’s money that could have gone into student loans, rent, and groceries. Long past time to close the gap. #BlackWomensEqualPayDay\n",
      "When those in power lift up Black artists, a chain reaction starts until—as @Beyonce puts it—“there is a mosaic of perspectives.” Congrats @Tyler_Mitchell_ on becoming the first Black photographer to shoot the cover of @voguemagazine in 126 years! An historic and stunning cover. https://t.co/fKQwO9clVq\n",
      "Income equality is one of the most pressing issues of our time. As the gap between the rich and the poor continues to grow, it’s becoming harder for working-class Americans to make ends meet. \n",
      "https://t.co/2w8TU1zeN3\n",
      "Republicans are gearing up to try to take health care away from millions of Americans (again) if they win big in November. \n",
      "\n",
      "This is what’s at stake in the midterms. Make no mistake, every single voice counts. \n",
      "https://t.co/S5PMbQg7T5\n",
      "Please consider making a contribution to support six local nonprofits that are working to help those displaced and hurt by the fires in California. Any amount you can give will make a difference. \n",
      "https://t.co/OImFB0WIsW\n",
      "This is outrageous. Legally using Obamacare or food assistance shouldn’t disqualify immigrants from becoming citizens. \n",
      "https://t.co/lfZ1knbvrq\n",
      "It’s #ElectionDay in Kansas, Michigan, Missouri, Washington, and Ohio-12. If you have friends or family that lives in one of those states, be sure to remind them to get out and vote.\n",
      "63 cents on the dollar. \n",
      "\n",
      "That’s how much Black women on average are paid compared to white, non-Hispanic men. That missing 37 cents on each dollar earned can add up to a devastating economic disadvantage for Black women. #BlackWomensEqualPay\n",
      "Black women on average have to work 8 extra months just to be paid the same white men make in 12 months. This #BlackWomensEqualPay Day, let’s continue to advocate for pay transparency, address occupational roadblocks that exist for Black women &amp; work to raise the minimum wage. https://t.co/7DmqqTKjLc\n",
      "Thankful for all of California’s firefighters and those who have come in from other states to battle these blazes. As this fire continues to grow, please listen to any evacuation orders from local officials. \n",
      "https://t.co/bVXdTrTW9K\n"
     ]
    }
   ],
   "source": [
    "# prints out tweets and saves to a .csv\n",
    "for handle in politicians:\n",
    "    tweets = api.user_timeline(id = handle, count = 10, tweet_mode = 'extended')\n",
    "    for tweet in tweets:\n",
    "        print(tweet.full_text)\n",
    "        csvWriter.writerow({'Username':tweet.user.name, 'Screenname':tweet.user.screen_name, 'Text':tweet.full_text, \n",
    "                             'Time':tweet.created_at, 'Retweets':tweet.retweet_count, 'Favorites':tweet.favorite_count})\n",
    "\n"
   ]
  },
  {
   "cell_type": "code",
   "execution_count": 14,
   "metadata": {},
   "outputs": [],
   "source": [
    "csvFile.close()"
   ]
  }
 ],
 "metadata": {
  "kernelspec": {
   "display_name": "Python 3",
   "language": "python",
   "name": "python3"
  },
  "language_info": {
   "codemirror_mode": {
    "name": "ipython",
    "version": 3
   },
   "file_extension": ".py",
   "mimetype": "text/x-python",
   "name": "python",
   "nbconvert_exporter": "python",
   "pygments_lexer": "ipython3",
   "version": "3.6.4"
  }
 },
 "nbformat": 4,
 "nbformat_minor": 2
}
