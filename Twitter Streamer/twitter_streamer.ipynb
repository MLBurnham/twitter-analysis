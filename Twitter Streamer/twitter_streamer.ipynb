{
 "cells": [
  {
   "cell_type": "markdown",
   "metadata": {},
   "source": [
    "##### Keeping an ipynb edition of this script because I get an encoding error when I run as a standard script. Unsure yet as to why....\n",
    "\n",
    "Other issues:\n",
    "- all strings begin with \"b'\" (suspect it has something to do with UTF-8 encoding?)\n",
    "- Need to change emojis to binary"
   ]
  },
  {
   "cell_type": "code",
   "execution_count": null,
   "metadata": {},
   "outputs": [],
   "source": [
    "from tweepy import Stream\n",
    "from tweepy import OAuthHandler\n",
    "from tweepy.streaming import StreamListener\n",
    "from tweepy import API\n",
    "from tweepy import Cursor\n",
    "import csv\n",
    "try:\n",
    "    import import_ipynb\n",
    "except:\n",
    "    import sys\n",
    "    !pip install import_ipynb\n",
    "    import import_ipynb\n",
    "\n",
    "from Keys import *"
   ]
  },
  {
   "cell_type": "code",
   "execution_count": null,
   "metadata": {},
   "outputs": [],
   "source": [
    "class TwitterListener(StreamListener):\n",
    "    \"\"\"\n",
    "    A Basic listener for printing out tweets and writing in csv\n",
    "    \"\"\"\n",
    "    # redefine the on_status method from the StreamListener class. determines what to do with data when a status is retrieved\n",
    "    def on_status(self, status):\n",
    "        # print statement just to verify it's streaming\n",
    "        print(status.author.screen_name, status.created_at, status.text)\n",
    "        # opens the file to append, uses dictionary writer to separate into columns\n",
    "        with open('tweetDB.csv', 'a') as file:\n",
    "            csvWriter = csv.DictWriter(file, fieldnames = ['Username', 'Screenname', 'Time', 'Text', 'Retweets', 'Favorites'], \n",
    "                                       lineterminator = '\\n')\n",
    "            csvWriter.writerow({'Username':status.author.name.encode('UTF-8'), \n",
    "                             'Screenname':status.author.screen_name.encode('UTF-8'),\n",
    "                             'Time':status.created_at, \n",
    "                             'Text':status.text.encode('UTF-8'), \n",
    "                             'Retweets':status.retweet_count,\n",
    "                             'Favorites':status.favorite_count})\n",
    "    \n",
    "    def on_error(self, status):\n",
    "        if status == 420:\n",
    "            # return false on data method in case rate limit occurs\n",
    "            return False\n",
    "        print(status)"
   ]
  },
  {
   "cell_type": "code",
   "execution_count": null,
   "metadata": {},
   "outputs": [],
   "source": [
    "# set my Authenticators\n",
    "auth = OAuthHandler(consumer_key, consumer_secret)\n",
    "auth.set_access_token(access_token, access_secret)"
   ]
  },
  {
   "cell_type": "code",
   "execution_count": null,
   "metadata": {},
   "outputs": [],
   "source": [
    "# set parameters for csv and write column header\n",
    "with open('tweetDB.csv', 'a') as file:\n",
    "    csvWriter = csv.DictWriter(file, fieldnames = ['Username', 'Screenname', 'Time', 'Text', 'Retweets', 'Favorites'], \n",
    "                               lineterminator = '\\n')\n",
    "    csvWriter.writeheader()\n",
    "\n",
    "# activate streamer\n",
    "streamingAPI = Stream(auth, TwitterListener())\n",
    "streamingAPI.filter(track=['test'])"
   ]
  }
 ],
 "metadata": {
  "kernelspec": {
   "display_name": "Python 3",
   "language": "python",
   "name": "python3"
  },
  "language_info": {
   "codemirror_mode": {
    "name": "ipython",
    "version": 3
   },
   "file_extension": ".py",
   "mimetype": "text/x-python",
   "name": "python",
   "nbconvert_exporter": "python",
   "pygments_lexer": "ipython3",
   "version": "3.6.6"
  }
 },
 "nbformat": 4,
 "nbformat_minor": 2
}
