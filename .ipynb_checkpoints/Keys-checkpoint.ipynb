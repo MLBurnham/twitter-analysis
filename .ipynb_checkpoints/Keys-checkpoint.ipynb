{
 "cells": [
  {
   "cell_type": "code",
   "execution_count": 4,
   "metadata": {},
   "outputs": [],
   "source": [
    "consumer_key = 'afNYY6acvUhRImlQvbMMI4VVL'\n",
    "consumer_secret = 'N2BMLD5z3XcjOGGtGfurdWSOrdDQvNbwVhSzzQs7h4hrC41bF9'\n",
    "access_token = '1018133154136313857-dyhAjVlBpwZN9JfAv8EXCHDFm3VPPB'\n",
    "access_secret = 'dNTb5DDpRkNR3QF87vsqtabLwd2AMABPmjBeLAGqJ1FXP'"
   ]
  }
 ],
 "metadata": {
  "kernelspec": {
   "display_name": "Python 3",
   "language": "python",
   "name": "python3"
  },
  "language_info": {
   "codemirror_mode": {
    "name": "ipython",
    "version": 3
   },
   "file_extension": ".py",
   "mimetype": "text/x-python",
   "name": "python",
   "nbconvert_exporter": "python",
   "pygments_lexer": "ipython3",
   "version": "3.6.4"
  }
 },
 "nbformat": 4,
 "nbformat_minor": 2
}
